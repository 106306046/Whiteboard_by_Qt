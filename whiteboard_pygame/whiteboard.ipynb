{
 "cells": [
  {
   "cell_type": "code",
   "execution_count": 1,
   "metadata": {},
   "outputs": [
    {
     "name": "stderr",
     "output_type": "stream",
     "text": [
      "c:\\Users\\timmy\\anaconda3\\envs\\whiteboard\\Lib\\site-packages\\tqdm\\auto.py:21: TqdmWarning: IProgress not found. Please update jupyter and ipywidgets. See https://ipywidgets.readthedocs.io/en/stable/user_install.html\n",
      "  from .autonotebook import tqdm as notebook_tqdm\n"
     ]
    },
    {
     "name": "stdout",
     "output_type": "stream",
     "text": [
      "get model\n"
     ]
    },
    {
     "name": "stderr",
     "output_type": "stream",
     "text": [
      "Loading pipeline components...: 100%|██████████| 6/6 [00:01<00:00,  3.23it/s]\n",
      "You have disabled the safety checker for <class 'diffusers.pipelines.controlnet.pipeline_controlnet_img2img.StableDiffusionControlNetImg2ImgPipeline'> by passing `safety_checker=None`. Ensure that you abide to the conditions of the Stable Diffusion license and do not expose unfiltered results in services or applications open to the public. Both the diffusers team and Hugging Face strongly recommend to keep the safety filter enabled in all public facing circumstances, disabling it only for use-cases that involve analyzing network behavior or auditing its results. For more information, please have a look at https://github.com/huggingface/diffusers/pull/254 .\n"
     ]
    }
   ],
   "source": [
    "from draw_diffusers import  load_model, image_process\n",
    "\n",
    "PIPE =load_model()"
   ]
  },
  {
   "cell_type": "code",
   "execution_count": 2,
   "metadata": {},
   "outputs": [
    {
     "name": "stdout",
     "output_type": "stream",
     "text": [
      "pygame 2.5.2 (SDL 2.28.3, Python 3.11.5)\n",
      "Hello from the pygame community. https://www.pygame.org/contribute.html\n"
     ]
    }
   ],
   "source": [
    "import pygame\n",
    "from PIL import Image\n",
    "from pathlib import Path\n",
    "from painter import *"
   ]
  },
  {
   "cell_type": "code",
   "execution_count": 3,
   "metadata": {},
   "outputs": [],
   "source": [
    "def run():\n",
    "    global input\n",
    "    path = Path()\n",
    "    # pygame initialize\n",
    "    pygame.init()\n",
    "\n",
    "    # UI Settings\n",
    "\n",
    "    CANVAS_W = 800\n",
    "    CANVAS_H = 600\n",
    "\n",
    "    \n",
    "    W1 = 200\n",
    "    H1 = 80\n",
    "    BACKGROUND_COLOR = 255, 255, 225\n",
    "    CANVAS_COLOR = 255, 255, 255\n",
    "    CAPTION = \"BCI Drawing\"\n",
    "    MARGIN1 = 10\n",
    "    MARGIN2 = 10\n",
    "    BRUSH_COLOR = BLACK\n",
    "\n",
    "    WIDTH = CANVAS_W * 2 + W1 + MARGIN1 * 4\n",
    "    HEIGHT = CANVAS_H + MARGIN1 * 2\n",
    "\n",
    "\n",
    "    pygame.display.set_caption(CAPTION)\n",
    "    screen = pygame.display.set_mode((WIDTH, HEIGHT))\n",
    "\n",
    "    GENERATED_IMAGE = None\n",
    "\n",
    "    # build objects\n",
    "    canvas = Canvas(\n",
    "        color=CANVAS_COLOR,\n",
    "        rect=(\n",
    "            MARGIN1 * 2 + W1,  # x coordinate\n",
    "            MARGIN1,  # y coordinate\n",
    "            CANVAS_W,  # width\n",
    "            CANVAS_H  # height\n",
    "        )\n",
    "    )\n",
    "\n",
    "    canvas_2 = Canvas(\n",
    "        color=CANVAS_COLOR,\n",
    "        rect=(\n",
    "            MARGIN1 * 3 + W1 + CANVAS_W,  # x coordinate\n",
    "            MARGIN1,  # y coordinate\n",
    "            CANVAS_W,  # width\n",
    "            CANVAS_H  # height\n",
    "        )\n",
    "    )\n",
    "\n",
    "    current_time = pygame.time.get_ticks()\n",
    "    button_back = Button(\n",
    "        name=\"Back Button\",\n",
    "        color=RED,\n",
    "        rect=(\n",
    "            MARGIN1,  # x coordinate\n",
    "            MARGIN1,  # y coordinate\n",
    "            (W1 - MARGIN2) / 2,  # width\n",
    "            H1  # height\n",
    "        ),\n",
    "        time=current_time,\n",
    "        target_f=6,  # target frequency\n",
    "        img=pygame.image.load(path / 'icons' / 'back.png'),\n",
    "    )\n",
    "    button_next = Button(\n",
    "        name=\"Next Button\",\n",
    "        color=GREEN,\n",
    "        rect=(\n",
    "            MARGIN1 + MARGIN2 + (W1 - MARGIN2) / 2,  # x coordinate\n",
    "            MARGIN1,  # y coordinate\n",
    "            (W1 - MARGIN2) / 2,  # width\n",
    "            H1  # height\n",
    "        ),\n",
    "        time=current_time,\n",
    "        target_f=7,  # target frequency\n",
    "        img=pygame.image.load(path / 'icons' / 'next.png'),\n",
    "    )\n",
    "    button_comfirm = Button(\n",
    "        name=\"Confirm Button\",\n",
    "        color=YELLOW,\n",
    "        rect=(\n",
    "            MARGIN1,  # x coordinate\n",
    "            HEIGHT - MARGIN1 - H1,  # y coordinate\n",
    "            W1,  # width\n",
    "            H1  # height\n",
    "        ),\n",
    "        time=current_time,\n",
    "        target_f=10,  # target frequency\n",
    "        text=\"Confirm\",\n",
    "    )\n",
    "    button_list = [button_back, button_next, button_comfirm]\n",
    "\n",
    "    # --- Clock, fps ---\n",
    "    \"\"\"\n",
    "    fps = 60\n",
    "    clock = pygame.time.Clock()\n",
    "    \"\"\"\n",
    "    # --- events ---\n",
    "    running = True\n",
    "    is_flashing = True\n",
    "\n",
    "    while running:\n",
    "        # clock.tick(fps)\n",
    "\n",
    "        # --- events ---\n",
    "        for event in pygame.event.get():\n",
    "            if event.type == pygame.QUIT:\n",
    "                running = False\n",
    "            elif event.type == pygame.VIDEORESIZE:\n",
    "                print(\"The Pygame window is now \" + str(event.w) + \" pixels wide and \" + str(event.h) + \" pixels high\")\n",
    "                WIDTH, HEIGHT = event.size\n",
    "                # if WIDTH < min_width:\n",
    "                #     WIDTH = min_width\n",
    "                # if HEIGHT < min_height:\n",
    "                #     HEIGHT = min_height\n",
    "                screen = pygame.display.set_mode((WIDTH, HEIGHT), HWSURFACE | DOUBLEBUF | RESIZABLE)\n",
    "                CANVAS_SIZE = (WIDTH - MARGIN1 * 2) / 2, HEIGHT - MARGIN1 * 2\n",
    "                screen.fill(BACKGROUND_COLOR)\n",
    "                canvas = pygame.transform.scale(canvas, CANVAS_SIZE)\n",
    "                canvas_2 = pygame.transform.scale(canvas_2, CANVAS_SIZE)\n",
    "            elif event.type == pygame.KEYDOWN:\n",
    "                # Save canvas when \"S\" is pressed\n",
    "                if event.key == pygame.K_s:\n",
    "                    canvas.save()\n",
    "                # Reset canvas when \"R\" is pressed\n",
    "                if event.key == pygame.K_r:\n",
    "                    canvas.reset()\n",
    "                # Open/Close button blinking when \"F\" is pressed\n",
    "                if event.key == pygame.K_f:\n",
    "                    is_flashing = not is_flashing\n",
    "            if event.type == MOUSEBUTTONDOWN:\n",
    "                print('mouse down')\n",
    "                mouse_pos = pygame.mouse.get_pos()\n",
    "                for button in button_list:\n",
    "                    if button.get_rect().collidepoint(mouse_pos):\n",
    "                        print(f\"--- {button.name} got pressed ---    \\r\", end='\\b')\n",
    "            \n",
    "            if event.type == MOUSEBUTTONUP:\n",
    "                print('mouse up')\n",
    "                # GENERATED_IMAGE = pygame.image.load(\"../draw/img/input_5.png\").convert()\n",
    "                # GENERATED_IMAGE = pygame.transform.scale(GENERATED_IMAGE, (CANVAS_W,CANVAS_H))\n",
    "                \n",
    "                string_img = pygame.image.tostring(canvas.export_img(),'RGB')\n",
    "                pil_img = Image.frombytes(\"RGB\",(CANVAS_W,CANVAS_H),string_img)\n",
    "                output = image_process(pipe=PIPE,image=pil_img)\n",
    "                output_bytes = output.tobytes()\n",
    "                mode = output.mode\n",
    "                size = output.size\n",
    "                GENERATED_IMAGE = pygame.image.fromstring(output_bytes, size, mode)\n",
    "\n",
    "        if pygame.mouse.get_pressed()[0]:\n",
    "            mouse_pos = pygame.mouse.get_pos()\n",
    "            if canvas.get_rect().collidepoint(mouse_pos):\n",
    "                canvas.add_brush(\n",
    "                    color=BRUSH_COLOR,\n",
    "                    position=mouse_pos,\n",
    "                    size=10\n",
    "                )\n",
    "\n",
    "               \n",
    "        # --- updates ---\n",
    "        if is_flashing:\n",
    "            current_time = pygame.time.get_ticks()\n",
    "            for button in button_list:\n",
    "                button.update(current_time)\n",
    "        else:\n",
    "            for button in button_list:\n",
    "                button.show = True\n",
    "\n",
    "        # --- draws ---\n",
    "        screen.fill(BACKGROUND_COLOR)\n",
    "        for button in button_list:\n",
    "            button.draw(screen)\n",
    "        canvas.draw(screen)\n",
    "        \n",
    "        if (GENERATED_IMAGE != None):\n",
    "            screen.blit(GENERATED_IMAGE, (MARGIN1 * 3 + W1 + CANVAS_W, MARGIN1)) \n",
    "        else:\n",
    "            canvas_2.draw(screen)\n",
    "        \n",
    "        # button_back.observe()     # Uncomment to observe actual frequency of button\n",
    "        pygame.display.flip()\n",
    "\n",
    "    print(\"Ended\" + \" \" * 100)\n",
    "    pygame.quit()"
   ]
  },
  {
   "cell_type": "code",
   "execution_count": 4,
   "metadata": {},
   "outputs": [
    {
     "name": "stdout",
     "output_type": "stream",
     "text": [
      "mouse down\n",
      "mouse up\n",
      "image process\n"
     ]
    },
    {
     "name": "stderr",
     "output_type": "stream",
     "text": [
      "100%|██████████| 16/16 [00:02<00:00,  5.97it/s]\n"
     ]
    },
    {
     "name": "stdout",
     "output_type": "stream",
     "text": [
      "Ended                                                                                                    \n"
     ]
    }
   ],
   "source": [
    "run()"
   ]
  }
 ],
 "metadata": {
  "kernelspec": {
   "display_name": "whiteboard",
   "language": "python",
   "name": "python3"
  },
  "language_info": {
   "codemirror_mode": {
    "name": "ipython",
    "version": 3
   },
   "file_extension": ".py",
   "mimetype": "text/x-python",
   "name": "python",
   "nbconvert_exporter": "python",
   "pygments_lexer": "ipython3",
   "version": "3.11.5"
  }
 },
 "nbformat": 4,
 "nbformat_minor": 2
}
